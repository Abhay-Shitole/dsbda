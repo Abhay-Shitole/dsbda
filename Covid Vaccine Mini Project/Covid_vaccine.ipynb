{
 "cells": [
  {
   "cell_type": "markdown",
   "id": "cce519dc-78ac-4131-a104-a35f13242e54",
   "metadata": {},
   "source": [
    "**Download Dataset**"
   ]
  },
  {
   "cell_type": "code",
   "execution_count": 4,
   "id": "00dc8ea3-be5e-4ede-a9ec-306b3f026f48",
   "metadata": {},
   "outputs": [
    {
     "name": "stdout",
     "output_type": "stream",
     "text": [
      "Downloading from https://www.kaggle.com/api/v1/datasets/download/sudalairajkumar/covid19-in-india?dataset_version_number=237...\n"
     ]
    },
    {
     "name": "stderr",
     "output_type": "stream",
     "text": [
      "100%|████████████████████████████████████████████████████████████████████████████████| 758k/758k [00:01<00:00, 604kB/s]"
     ]
    },
    {
     "name": "stdout",
     "output_type": "stream",
     "text": [
      "Extracting files...\n"
     ]
    },
    {
     "name": "stderr",
     "output_type": "stream",
     "text": [
      "\n"
     ]
    }
   ],
   "source": [
    "import kagglehub\n",
    "import numpy\n",
    "import pandas\n",
    "\n",
    "# Download latest version\n",
    "path = kagglehub.dataset_download(\"sudalairajkumar/covid19-in-india\")"
   ]
  },
  {
   "cell_type": "code",
   "execution_count": 5,
   "id": "a2885c90-71aa-4128-a1d5-695139205132",
   "metadata": {},
   "outputs": [
    {
     "name": "stdout",
     "output_type": "stream",
     "text": [
      "C:\\Users\\Acer\\.cache\\kagglehub\\datasets\\sudalairajkumar\\covid19-in-india\\versions\\237\n"
     ]
    }
   ],
   "source": [
    "print(path)  # Check where the dataset is downloaded"
   ]
  },
  {
   "cell_type": "markdown",
   "id": "dc058390-1978-4f80-9f34-41f4688f41c4",
   "metadata": {},
   "source": [
    "**Construct the File Path**"
   ]
  },
  {
   "cell_type": "code",
   "execution_count": 7,
   "id": "09d8a2ac-d5f3-4af8-97ef-ea0f7c77c3ba",
   "metadata": {},
   "outputs": [],
   "source": [
    "import os"
   ]
  },
  {
   "cell_type": "code",
   "execution_count": 8,
   "id": "77fd3751-907b-49cb-bbb0-e4775eb272e1",
   "metadata": {},
   "outputs": [
    {
     "name": "stdout",
     "output_type": "stream",
     "text": [
      "C:\\Users\\Acer\\.cache\\kagglehub\\datasets\\sudalairajkumar\\covid19-in-india\\versions\\237\\covid_vaccine_statewise.csv\n"
     ]
    }
   ],
   "source": [
    "file_path = os.path.join(path, \"covid_vaccine_statewise.csv\")\n",
    "print(file_path)  # Verify the correct path"
   ]
  },
  {
   "cell_type": "markdown",
   "id": "8b482e45-a437-46c6-a327-8e8f4e0e0785",
   "metadata": {},
   "source": [
    "**Load the Dataset**"
   ]
  },
  {
   "cell_type": "code",
   "execution_count": 9,
   "id": "1986c9b6-4730-4f80-9757-e8192de45e76",
   "metadata": {},
   "outputs": [
    {
     "data": {
      "text/html": [
       "<div>\n",
       "<style scoped>\n",
       "    .dataframe tbody tr th:only-of-type {\n",
       "        vertical-align: middle;\n",
       "    }\n",
       "\n",
       "    .dataframe tbody tr th {\n",
       "        vertical-align: top;\n",
       "    }\n",
       "\n",
       "    .dataframe thead th {\n",
       "        text-align: right;\n",
       "    }\n",
       "</style>\n",
       "<table border=\"1\" class=\"dataframe\">\n",
       "  <thead>\n",
       "    <tr style=\"text-align: right;\">\n",
       "      <th></th>\n",
       "      <th>Updated On</th>\n",
       "      <th>State</th>\n",
       "      <th>Total Doses Administered</th>\n",
       "      <th>Sessions</th>\n",
       "      <th>Sites</th>\n",
       "      <th>First Dose Administered</th>\n",
       "      <th>Second Dose Administered</th>\n",
       "      <th>Male (Doses Administered)</th>\n",
       "      <th>Female (Doses Administered)</th>\n",
       "      <th>Transgender (Doses Administered)</th>\n",
       "      <th>...</th>\n",
       "      <th>18-44 Years (Doses Administered)</th>\n",
       "      <th>45-60 Years (Doses Administered)</th>\n",
       "      <th>60+ Years (Doses Administered)</th>\n",
       "      <th>18-44 Years(Individuals Vaccinated)</th>\n",
       "      <th>45-60 Years(Individuals Vaccinated)</th>\n",
       "      <th>60+ Years(Individuals Vaccinated)</th>\n",
       "      <th>Male(Individuals Vaccinated)</th>\n",
       "      <th>Female(Individuals Vaccinated)</th>\n",
       "      <th>Transgender(Individuals Vaccinated)</th>\n",
       "      <th>Total Individuals Vaccinated</th>\n",
       "    </tr>\n",
       "  </thead>\n",
       "  <tbody>\n",
       "    <tr>\n",
       "      <th>0</th>\n",
       "      <td>16/01/2021</td>\n",
       "      <td>India</td>\n",
       "      <td>48276.0</td>\n",
       "      <td>3455.0</td>\n",
       "      <td>2957.0</td>\n",
       "      <td>48276.0</td>\n",
       "      <td>0.0</td>\n",
       "      <td>NaN</td>\n",
       "      <td>NaN</td>\n",
       "      <td>NaN</td>\n",
       "      <td>...</td>\n",
       "      <td>NaN</td>\n",
       "      <td>NaN</td>\n",
       "      <td>NaN</td>\n",
       "      <td>NaN</td>\n",
       "      <td>NaN</td>\n",
       "      <td>NaN</td>\n",
       "      <td>23757.0</td>\n",
       "      <td>24517.0</td>\n",
       "      <td>2.0</td>\n",
       "      <td>48276.0</td>\n",
       "    </tr>\n",
       "    <tr>\n",
       "      <th>1</th>\n",
       "      <td>17/01/2021</td>\n",
       "      <td>India</td>\n",
       "      <td>58604.0</td>\n",
       "      <td>8532.0</td>\n",
       "      <td>4954.0</td>\n",
       "      <td>58604.0</td>\n",
       "      <td>0.0</td>\n",
       "      <td>NaN</td>\n",
       "      <td>NaN</td>\n",
       "      <td>NaN</td>\n",
       "      <td>...</td>\n",
       "      <td>NaN</td>\n",
       "      <td>NaN</td>\n",
       "      <td>NaN</td>\n",
       "      <td>NaN</td>\n",
       "      <td>NaN</td>\n",
       "      <td>NaN</td>\n",
       "      <td>27348.0</td>\n",
       "      <td>31252.0</td>\n",
       "      <td>4.0</td>\n",
       "      <td>58604.0</td>\n",
       "    </tr>\n",
       "    <tr>\n",
       "      <th>2</th>\n",
       "      <td>18/01/2021</td>\n",
       "      <td>India</td>\n",
       "      <td>99449.0</td>\n",
       "      <td>13611.0</td>\n",
       "      <td>6583.0</td>\n",
       "      <td>99449.0</td>\n",
       "      <td>0.0</td>\n",
       "      <td>NaN</td>\n",
       "      <td>NaN</td>\n",
       "      <td>NaN</td>\n",
       "      <td>...</td>\n",
       "      <td>NaN</td>\n",
       "      <td>NaN</td>\n",
       "      <td>NaN</td>\n",
       "      <td>NaN</td>\n",
       "      <td>NaN</td>\n",
       "      <td>NaN</td>\n",
       "      <td>41361.0</td>\n",
       "      <td>58083.0</td>\n",
       "      <td>5.0</td>\n",
       "      <td>99449.0</td>\n",
       "    </tr>\n",
       "    <tr>\n",
       "      <th>3</th>\n",
       "      <td>19/01/2021</td>\n",
       "      <td>India</td>\n",
       "      <td>195525.0</td>\n",
       "      <td>17855.0</td>\n",
       "      <td>7951.0</td>\n",
       "      <td>195525.0</td>\n",
       "      <td>0.0</td>\n",
       "      <td>NaN</td>\n",
       "      <td>NaN</td>\n",
       "      <td>NaN</td>\n",
       "      <td>...</td>\n",
       "      <td>NaN</td>\n",
       "      <td>NaN</td>\n",
       "      <td>NaN</td>\n",
       "      <td>NaN</td>\n",
       "      <td>NaN</td>\n",
       "      <td>NaN</td>\n",
       "      <td>81901.0</td>\n",
       "      <td>113613.0</td>\n",
       "      <td>11.0</td>\n",
       "      <td>195525.0</td>\n",
       "    </tr>\n",
       "    <tr>\n",
       "      <th>4</th>\n",
       "      <td>20/01/2021</td>\n",
       "      <td>India</td>\n",
       "      <td>251280.0</td>\n",
       "      <td>25472.0</td>\n",
       "      <td>10504.0</td>\n",
       "      <td>251280.0</td>\n",
       "      <td>0.0</td>\n",
       "      <td>NaN</td>\n",
       "      <td>NaN</td>\n",
       "      <td>NaN</td>\n",
       "      <td>...</td>\n",
       "      <td>NaN</td>\n",
       "      <td>NaN</td>\n",
       "      <td>NaN</td>\n",
       "      <td>NaN</td>\n",
       "      <td>NaN</td>\n",
       "      <td>NaN</td>\n",
       "      <td>98111.0</td>\n",
       "      <td>153145.0</td>\n",
       "      <td>24.0</td>\n",
       "      <td>251280.0</td>\n",
       "    </tr>\n",
       "  </tbody>\n",
       "</table>\n",
       "<p>5 rows × 24 columns</p>\n",
       "</div>"
      ],
      "text/plain": [
       "   Updated On  State  Total Doses Administered  Sessions   Sites   \\\n",
       "0  16/01/2021  India                   48276.0    3455.0   2957.0   \n",
       "1  17/01/2021  India                   58604.0    8532.0   4954.0   \n",
       "2  18/01/2021  India                   99449.0   13611.0   6583.0   \n",
       "3  19/01/2021  India                  195525.0   17855.0   7951.0   \n",
       "4  20/01/2021  India                  251280.0   25472.0  10504.0   \n",
       "\n",
       "   First Dose Administered  Second Dose Administered  \\\n",
       "0                  48276.0                       0.0   \n",
       "1                  58604.0                       0.0   \n",
       "2                  99449.0                       0.0   \n",
       "3                 195525.0                       0.0   \n",
       "4                 251280.0                       0.0   \n",
       "\n",
       "   Male (Doses Administered)  Female (Doses Administered)  \\\n",
       "0                        NaN                          NaN   \n",
       "1                        NaN                          NaN   \n",
       "2                        NaN                          NaN   \n",
       "3                        NaN                          NaN   \n",
       "4                        NaN                          NaN   \n",
       "\n",
       "   Transgender (Doses Administered)  ...  18-44 Years (Doses Administered)  \\\n",
       "0                               NaN  ...                               NaN   \n",
       "1                               NaN  ...                               NaN   \n",
       "2                               NaN  ...                               NaN   \n",
       "3                               NaN  ...                               NaN   \n",
       "4                               NaN  ...                               NaN   \n",
       "\n",
       "   45-60 Years (Doses Administered)  60+ Years (Doses Administered)  \\\n",
       "0                               NaN                             NaN   \n",
       "1                               NaN                             NaN   \n",
       "2                               NaN                             NaN   \n",
       "3                               NaN                             NaN   \n",
       "4                               NaN                             NaN   \n",
       "\n",
       "   18-44 Years(Individuals Vaccinated)  45-60 Years(Individuals Vaccinated)  \\\n",
       "0                                  NaN                                  NaN   \n",
       "1                                  NaN                                  NaN   \n",
       "2                                  NaN                                  NaN   \n",
       "3                                  NaN                                  NaN   \n",
       "4                                  NaN                                  NaN   \n",
       "\n",
       "   60+ Years(Individuals Vaccinated)  Male(Individuals Vaccinated)  \\\n",
       "0                                NaN                       23757.0   \n",
       "1                                NaN                       27348.0   \n",
       "2                                NaN                       41361.0   \n",
       "3                                NaN                       81901.0   \n",
       "4                                NaN                       98111.0   \n",
       "\n",
       "   Female(Individuals Vaccinated)  Transgender(Individuals Vaccinated)  \\\n",
       "0                         24517.0                                  2.0   \n",
       "1                         31252.0                                  4.0   \n",
       "2                         58083.0                                  5.0   \n",
       "3                        113613.0                                 11.0   \n",
       "4                        153145.0                                 24.0   \n",
       "\n",
       "   Total Individuals Vaccinated  \n",
       "0                       48276.0  \n",
       "1                       58604.0  \n",
       "2                       99449.0  \n",
       "3                      195525.0  \n",
       "4                      251280.0  \n",
       "\n",
       "[5 rows x 24 columns]"
      ]
     },
     "execution_count": 9,
     "metadata": {},
     "output_type": "execute_result"
    }
   ],
   "source": [
    "import pandas as pd\n",
    "\n",
    "# Load the dataset\n",
    "df = pd.read_csv(file_path)\n",
    "\n",
    "# Display first few rows\n",
    "df.head()\n"
   ]
  },
  {
   "cell_type": "markdown",
   "id": "1920bb02-6836-4ba2-8caa-6a9fc686773b",
   "metadata": {},
   "source": [
    "**Perform Analysis**"
   ]
  },
  {
   "cell_type": "markdown",
   "id": "f6acaa2a-5d57-427f-8820-05fc97df9d88",
   "metadata": {},
   "source": [
    "**1. Describe the Dataset**"
   ]
  },
  {
   "cell_type": "code",
   "execution_count": 11,
   "id": "6456d999-d4dc-40d7-adc0-3c12b097a930",
   "metadata": {},
   "outputs": [
    {
     "name": "stdout",
     "output_type": "stream",
     "text": [
      "<class 'pandas.core.frame.DataFrame'>\n",
      "RangeIndex: 7845 entries, 0 to 7844\n",
      "Data columns (total 24 columns):\n",
      " #   Column                               Non-Null Count  Dtype  \n",
      "---  ------                               --------------  -----  \n",
      " 0   Updated On                           7845 non-null   object \n",
      " 1   State                                7845 non-null   object \n",
      " 2   Total Doses Administered             7621 non-null   float64\n",
      " 3   Sessions                             7621 non-null   float64\n",
      " 4    Sites                               7621 non-null   float64\n",
      " 5   First Dose Administered              7621 non-null   float64\n",
      " 6   Second Dose Administered             7621 non-null   float64\n",
      " 7   Male (Doses Administered)            7461 non-null   float64\n",
      " 8   Female (Doses Administered)          7461 non-null   float64\n",
      " 9   Transgender (Doses Administered)     7461 non-null   float64\n",
      " 10   Covaxin (Doses Administered)        7621 non-null   float64\n",
      " 11  CoviShield (Doses Administered)      7621 non-null   float64\n",
      " 12  Sputnik V (Doses Administered)       2995 non-null   float64\n",
      " 13  AEFI                                 5438 non-null   float64\n",
      " 14  18-44 Years (Doses Administered)     1702 non-null   float64\n",
      " 15  45-60 Years (Doses Administered)     1702 non-null   float64\n",
      " 16  60+ Years (Doses Administered)       1702 non-null   float64\n",
      " 17  18-44 Years(Individuals Vaccinated)  3733 non-null   float64\n",
      " 18  45-60 Years(Individuals Vaccinated)  3734 non-null   float64\n",
      " 19  60+ Years(Individuals Vaccinated)    3734 non-null   float64\n",
      " 20  Male(Individuals Vaccinated)         160 non-null    float64\n",
      " 21  Female(Individuals Vaccinated)       160 non-null    float64\n",
      " 22  Transgender(Individuals Vaccinated)  160 non-null    float64\n",
      " 23  Total Individuals Vaccinated         5919 non-null   float64\n",
      "dtypes: float64(22), object(2)\n",
      "memory usage: 1.4+ MB\n"
     ]
    }
   ],
   "source": [
    "df.describe()\n",
    "df.info()\n"
   ]
  },
  {
   "cell_type": "markdown",
   "id": "fc72493f-85a4-48b6-a6d4-81b936e7c2a3",
   "metadata": {},
   "source": [
    "**2. Number of Persons State-wise Vaccinated for the First Dose**"
   ]
  },
  {
   "cell_type": "code",
   "execution_count": 12,
   "id": "44943d03-7bc9-48f8-9304-8c8215fda921",
   "metadata": {},
   "outputs": [
    {
     "name": "stdout",
     "output_type": "stream",
     "text": [
      "                                       State  First Dose Administered\n",
      "0                Andaman and Nicobar Islands             1.642585e+07\n",
      "1                             Andhra Pradesh             1.232861e+09\n",
      "2                          Arunachal Pradesh             4.900498e+07\n",
      "3                                      Assam             5.856002e+08\n",
      "4                                      Bihar             1.470503e+09\n",
      "5                                 Chandigarh             4.470310e+07\n",
      "6                               Chhattisgarh             7.960029e+08\n",
      "7   Dadra and Nagar Haveli and Daman and Diu             3.359506e+07\n",
      "8                                      Delhi             6.243395e+08\n",
      "9                                        Goa             7.599137e+07\n",
      "10                                   Gujarat             2.131646e+09\n",
      "11                                   Haryana             7.557984e+08\n",
      "12                          Himachal Pradesh             3.162940e+08\n",
      "13                                     India             2.826214e+10\n",
      "14                         Jammu and Kashmir             4.101018e+08\n",
      "15                                 Jharkhand             6.036737e+08\n",
      "16                                 Karnataka             1.873330e+09\n",
      "17                                    Kerala             1.193845e+09\n",
      "18                                    Ladakh             1.780925e+07\n",
      "19                               Lakshadweep             4.363655e+06\n",
      "20                            Madhya Pradesh             1.796605e+09\n",
      "21                               Maharashtra             2.784364e+09\n",
      "22                                   Manipur             6.740957e+07\n",
      "23                                 Meghalaya             6.261597e+07\n",
      "24                                   Mizoram             4.787308e+07\n",
      "25                                  Nagaland             4.241077e+07\n",
      "26                                    Odisha             1.032633e+09\n",
      "27                                Puducherry             4.134686e+07\n",
      "28                                    Punjab             5.843466e+08\n",
      "29                                 Rajasthan             2.201044e+09\n",
      "30                                    Sikkim             3.698093e+07\n",
      "31                                Tamil Nadu             1.288533e+09\n",
      "32                                 Telangana             8.803206e+08\n",
      "33                                   Tripura             1.926897e+08\n",
      "34                             Uttar Pradesh             2.788411e+09\n",
      "35                               Uttarakhand             3.631914e+08\n",
      "36                               West Bengal             1.796450e+09\n"
     ]
    }
   ],
   "source": [
    "df_first_dose = df.groupby(\"State\")[\"First Dose Administered\"].sum().reset_index()\n",
    "print(df_first_dose)\n"
   ]
  },
  {
   "cell_type": "markdown",
   "id": "29686c01-72bf-4ac4-a0f4-e92c002842b0",
   "metadata": {},
   "source": [
    "**3. Number of Persons State-wise Vaccinated for the Second Dose**"
   ]
  },
  {
   "cell_type": "code",
   "execution_count": 13,
   "id": "d1dce6b2-b702-4d5c-89f7-018d6289cbe2",
   "metadata": {},
   "outputs": [
    {
     "name": "stdout",
     "output_type": "stream",
     "text": [
      "                                       State  Second Dose Administered\n",
      "0                Andaman and Nicobar Islands              4.118554e+06\n",
      "1                             Andhra Pradesh              3.588176e+08\n",
      "2                          Arunachal Pradesh              1.193232e+07\n",
      "3                                      Assam              1.307888e+08\n",
      "4                                      Bihar              2.707906e+08\n",
      "5                                 Chandigarh              1.159374e+07\n",
      "6                               Chhattisgarh              1.721204e+08\n",
      "7   Dadra and Nagar Haveli and Daman and Diu              4.594416e+06\n",
      "8                                      Delhi              1.882189e+08\n",
      "9                                        Goa              1.619817e+07\n",
      "10                                   Gujarat              6.004184e+08\n",
      "11                                   Haryana              1.586561e+08\n",
      "12                          Himachal Pradesh              7.383858e+07\n",
      "13                                     India              6.759621e+09\n",
      "14                         Jammu and Kashmir              8.595165e+07\n",
      "15                                 Jharkhand              1.221211e+08\n",
      "16                                 Karnataka              4.271872e+08\n",
      "17                                    Kerala              3.640488e+08\n",
      "18                                    Ladakh              5.453762e+06\n",
      "19                               Lakshadweep              1.056446e+06\n",
      "20                            Madhya Pradesh              3.169330e+08\n",
      "21                               Maharashtra              7.128811e+08\n",
      "22                                   Manipur              1.185815e+07\n",
      "23                                 Meghalaya              1.216663e+07\n",
      "24                                   Mizoram              9.998418e+06\n",
      "25                                  Nagaland              9.204637e+06\n",
      "26                                    Odisha              2.513028e+08\n",
      "27                                Puducherry              8.608859e+06\n",
      "28                                    Punjab              1.211210e+08\n",
      "29                                 Rajasthan              4.917030e+08\n",
      "30                                    Sikkim              9.723640e+06\n",
      "31                                Tamil Nadu              2.906706e+08\n",
      "32                                 Telangana              1.981529e+08\n",
      "33                                   Tripura              6.527014e+07\n",
      "34                             Uttar Pradesh              5.544351e+08\n",
      "35                               Uttarakhand              1.000850e+08\n",
      "36                               West Bengal              5.861469e+08\n"
     ]
    }
   ],
   "source": [
    "df_second_dose = df.groupby(\"State\")[\"Second Dose Administered\"].sum().reset_index()\n",
    "print(df_second_dose)\n"
   ]
  },
  {
   "cell_type": "markdown",
   "id": "bf17ae11-66f3-4a54-bed2-26c0a6a269d6",
   "metadata": {},
   "source": [
    "**4. Number of Males Vaccinated**"
   ]
  },
  {
   "cell_type": "code",
   "execution_count": 15,
   "id": "890b75e7-8986-413f-a3f4-31f757a76a4c",
   "metadata": {},
   "outputs": [
    {
     "name": "stdout",
     "output_type": "stream",
     "text": [
      "Total Males Vaccinated: 7138698858.0\n"
     ]
    }
   ],
   "source": [
    "total_males_vaccinated = df[\"Male(Individuals Vaccinated)\"].sum()\n",
    "print(f\"Total Males Vaccinated: {total_males_vaccinated}\")\n"
   ]
  },
  {
   "cell_type": "markdown",
   "id": "080d09b4-698c-415c-a2c0-f9143dfdcd48",
   "metadata": {},
   "source": [
    "**5. Number of Females Vaccinated**"
   ]
  },
  {
   "cell_type": "code",
   "execution_count": 16,
   "id": "7586a174-7fc6-4bbb-9f8f-59f66658c751",
   "metadata": {},
   "outputs": [
    {
     "name": "stdout",
     "output_type": "stream",
     "text": [
      "Total Females Vaccinated: 6321628736.0\n"
     ]
    }
   ],
   "source": [
    "total_females_vaccinated = df[\"Female(Individuals Vaccinated)\"].sum()\n",
    "print(f\"Total Females Vaccinated: {total_females_vaccinated}\")"
   ]
  }
 ],
 "metadata": {
  "kernelspec": {
   "display_name": "Python 3 (ipykernel)",
   "language": "python",
   "name": "python3"
  },
  "language_info": {
   "codemirror_mode": {
    "name": "ipython",
    "version": 3
   },
   "file_extension": ".py",
   "mimetype": "text/x-python",
   "name": "python",
   "nbconvert_exporter": "python",
   "pygments_lexer": "ipython3",
   "version": "3.12.4"
  }
 },
 "nbformat": 4,
 "nbformat_minor": 5
}
